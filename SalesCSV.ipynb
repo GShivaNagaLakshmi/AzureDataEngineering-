{
  "nbformat": 4,
  "nbformat_minor": 0,
  "metadata": {
    "colab": {
      "provenance": []
    },
    "kernelspec": {
      "name": "python3",
      "display_name": "Python 3"
    },
    "language_info": {
      "name": "python"
    }
  },
  "cells": [
    {
      "cell_type": "code",
      "execution_count": 2,
      "metadata": {
        "colab": {
          "base_uri": "https://localhost:8080/"
        },
        "id": "BcZ9SRrw-lo_",
        "outputId": "ef128b54-3010-4607-eeba-43c4b4d9647e"
      },
      "outputs": [
        {
          "output_type": "stream",
          "name": "stdout",
          "text": [
            "Collecting pyspark\n",
            "  Downloading pyspark-3.5.2.tar.gz (317.3 MB)\n",
            "\u001b[2K     \u001b[90m━━━━━━━━━━━━━━━━━━━━━━━━━━━━━━━━━━━━━━━━\u001b[0m \u001b[32m317.3/317.3 MB\u001b[0m \u001b[31m3.5 MB/s\u001b[0m eta \u001b[36m0:00:00\u001b[0m\n",
            "\u001b[?25h  Preparing metadata (setup.py) ... \u001b[?25l\u001b[?25hdone\n",
            "Requirement already satisfied: py4j==0.10.9.7 in /usr/local/lib/python3.10/dist-packages (from pyspark) (0.10.9.7)\n",
            "Building wheels for collected packages: pyspark\n",
            "  Building wheel for pyspark (setup.py) ... \u001b[?25l\u001b[?25hdone\n",
            "  Created wheel for pyspark: filename=pyspark-3.5.2-py2.py3-none-any.whl size=317812365 sha256=181fd36424b8e66da3e2de96e2c8d8bcc46e71390ceb26eeb059073099a03969\n",
            "  Stored in directory: /root/.cache/pip/wheels/34/34/bd/03944534c44b677cd5859f248090daa9fb27b3c8f8e5f49574\n",
            "Successfully built pyspark\n",
            "Installing collected packages: pyspark\n",
            "Successfully installed pyspark-3.5.2\n"
          ]
        }
      ],
      "source": [
        "pip install pyspark"
      ]
    },
    {
      "cell_type": "code",
      "source": [
        "from pyspark.sql import SparkSession\n",
        "spark = SparkSession.builder.appName(\"sales_data.csv\").getOrCreate()\n",
        "df = spark.read.csv(\"sales_data.csv\", sep = \"\\t\",header=True)\n",
        "df.show()"
      ],
      "metadata": {
        "colab": {
          "base_uri": "https://localhost:8080/"
        },
        "id": "h1z0w67r-8SQ",
        "outputId": "7a73a00f-b815-4d08-faa4-1c9d40cc4b93"
      },
      "execution_count": 10,
      "outputs": [
        {
          "output_type": "stream",
          "name": "stdout",
          "text": [
            "+---------------------------------------------------------------------------------------+\n",
            "|OrderID, CustomerID, OrderDate, ProductID, ProductName, Quantity, UnitPrice, TotalPrice|\n",
            "+---------------------------------------------------------------------------------------+\n",
            "|                                                                   1, 1001, 2022-01-...|\n",
            "|                                                                   2, 1002, 2022-01-...|\n",
            "|                                                                   3, 1003, 2022-01-...|\n",
            "|                                                                   4, 1001, 2022-01-...|\n",
            "|                                                                   5, 1002, 2022-01-...|\n",
            "|                                                                   6, 1003, 2022-02-...|\n",
            "|                                                                   7, 1001, 2022-02-...|\n",
            "|                                                                   8, 1002, 2022-02-...|\n",
            "|                                                                   9, 1003, 2022-02-...|\n",
            "|                                                                   10, 1001, 2022-02...|\n",
            "+---------------------------------------------------------------------------------------+\n",
            "\n"
          ]
        }
      ]
    },
    {
      "cell_type": "code",
      "source": [
        "!wget https://raw.githubusercontent.com/pathwaytipsorg/data-engineer/main/data/csv/sales_data.csv\n"
      ],
      "metadata": {
        "colab": {
          "base_uri": "https://localhost:8080/"
        },
        "id": "y8WyfZul-9gg",
        "outputId": "a1757812-b599-4df0-8925-ee24dbbde0fe"
      },
      "execution_count": 4,
      "outputs": [
        {
          "output_type": "stream",
          "name": "stdout",
          "text": [
            "--2024-09-22 14:42:11--  https://raw.githubusercontent.com/pathwaytipsorg/data-engineer/main/data/csv/sales_data.csv\n",
            "Resolving raw.githubusercontent.com (raw.githubusercontent.com)... 185.199.108.133, 185.199.109.133, 185.199.110.133, ...\n",
            "Connecting to raw.githubusercontent.com (raw.githubusercontent.com)|185.199.108.133|:443... connected.\n",
            "HTTP request sent, awaiting response... 200 OK\n",
            "Length: 570 [text/plain]\n",
            "Saving to: ‘sales_data.csv’\n",
            "\n",
            "\rsales_data.csv        0%[                    ]       0  --.-KB/s               \rsales_data.csv      100%[===================>]     570  --.-KB/s    in 0s      \n",
            "\n",
            "2024-09-22 14:42:11 (26.0 MB/s) - ‘sales_data.csv’ saved [570/570]\n",
            "\n"
          ]
        }
      ]
    },
    {
      "cell_type": "code",
      "source": [
        "from pyspark.sql import SparkSession\n",
        "spark = SparkSession.builder.appName(\"sales_data.csv\").getOrCreate()\n",
        "df = spark.read.csv(\"sales_data.csv\",sep = \",\",header=True).show()\n"
      ],
      "metadata": {
        "colab": {
          "base_uri": "https://localhost:8080/"
        },
        "id": "h-7OJ7l1D-Nm",
        "outputId": "7425564d-5ddf-486c-aa3b-2b2e8d8e6f87"
      },
      "execution_count": 11,
      "outputs": [
        {
          "output_type": "stream",
          "name": "stdout",
          "text": [
            "+-------+-----------+-----------+----------+------------+---------+----------+-----------+\n",
            "|OrderID| CustomerID|  OrderDate| ProductID| ProductName| Quantity| UnitPrice| TotalPrice|\n",
            "+-------+-----------+-----------+----------+------------+---------+----------+-----------+\n",
            "|      1|       1001| 2022-01-01|         1|      Laptop|        2|      1000|       2000|\n",
            "|      2|       1002| 2022-01-02|         2|  Smartphone|        3|       800|       2400|\n",
            "|      3|       1003| 2022-01-03|         1|      Laptop|        1|      1000|       1000|\n",
            "|      4|       1001| 2022-01-04|         3|  Headphones|        2|        50|        100|\n",
            "|      5|       1002| 2022-01-05|         1|      Laptop|        2|      1000|       2000|\n",
            "|      6|       1003| 2022-02-01|         2|  Smartphone|        4|       800|       3200|\n",
            "|      7|       1001| 2022-02-02|         1|      Laptop|        1|      1000|       1000|\n",
            "|      8|       1002| 2022-02-03|         3|  Headphones|        1|        50|         50|\n",
            "|      9|       1003| 2022-02-04|         2|  Smartphone|        2|       800|       1600|\n",
            "|     10|       1001| 2022-02-05|         1|      Laptop|        3|      1000|       3000|\n",
            "+-------+-----------+-----------+----------+------------+---------+----------+-----------+\n",
            "\n"
          ]
        }
      ]
    },
    {
      "cell_type": "code",
      "source": [
        "from pyspark.sql import SparkSession\n",
        "spark = SparkSession.builder.appName(\"population_by_age.tsv\").getOrCreate()\n",
        "df = spark.read.csv(\"sales_data.csv\",sep = \",\",header=True)\n",
        "df.show()"
      ],
      "metadata": {
        "colab": {
          "base_uri": "https://localhost:8080/"
        },
        "id": "JE6xC2kZ_EpT",
        "outputId": "34056034-64e6-4c0e-dc1b-cfd8369031fa"
      },
      "execution_count": 12,
      "outputs": [
        {
          "output_type": "stream",
          "name": "stdout",
          "text": [
            "+-------+-----------+-----------+----------+------------+---------+----------+-----------+\n",
            "|OrderID| CustomerID|  OrderDate| ProductID| ProductName| Quantity| UnitPrice| TotalPrice|\n",
            "+-------+-----------+-----------+----------+------------+---------+----------+-----------+\n",
            "|      1|       1001| 2022-01-01|         1|      Laptop|        2|      1000|       2000|\n",
            "|      2|       1002| 2022-01-02|         2|  Smartphone|        3|       800|       2400|\n",
            "|      3|       1003| 2022-01-03|         1|      Laptop|        1|      1000|       1000|\n",
            "|      4|       1001| 2022-01-04|         3|  Headphones|        2|        50|        100|\n",
            "|      5|       1002| 2022-01-05|         1|      Laptop|        2|      1000|       2000|\n",
            "|      6|       1003| 2022-02-01|         2|  Smartphone|        4|       800|       3200|\n",
            "|      7|       1001| 2022-02-02|         1|      Laptop|        1|      1000|       1000|\n",
            "|      8|       1002| 2022-02-03|         3|  Headphones|        1|        50|         50|\n",
            "|      9|       1003| 2022-02-04|         2|  Smartphone|        2|       800|       1600|\n",
            "|     10|       1001| 2022-02-05|         1|      Laptop|        3|      1000|       3000|\n",
            "+-------+-----------+-----------+----------+------------+---------+----------+-----------+\n",
            "\n"
          ]
        }
      ]
    },
    {
      "cell_type": "code",
      "source": [
        "from pyspark.sql.functions import when\n",
        "\n",
        "df = df.select('OrderID',' CustomerID',' OrderDate',' ProductName',' Quantity',' UnitPrice',' TotalPrice')\n",
        "df.show()\n"
      ],
      "metadata": {
        "colab": {
          "base_uri": "https://localhost:8080/"
        },
        "id": "-s47M04rA5qJ",
        "outputId": "50701a8d-dccd-4743-b7d1-f48c82485138"
      },
      "execution_count": 13,
      "outputs": [
        {
          "output_type": "stream",
          "name": "stdout",
          "text": [
            "+-------+-----------+-----------+------------+---------+----------+-----------+\n",
            "|OrderID| CustomerID|  OrderDate| ProductName| Quantity| UnitPrice| TotalPrice|\n",
            "+-------+-----------+-----------+------------+---------+----------+-----------+\n",
            "|      1|       1001| 2022-01-01|      Laptop|        2|      1000|       2000|\n",
            "|      2|       1002| 2022-01-02|  Smartphone|        3|       800|       2400|\n",
            "|      3|       1003| 2022-01-03|      Laptop|        1|      1000|       1000|\n",
            "|      4|       1001| 2022-01-04|  Headphones|        2|        50|        100|\n",
            "|      5|       1002| 2022-01-05|      Laptop|        2|      1000|       2000|\n",
            "|      6|       1003| 2022-02-01|  Smartphone|        4|       800|       3200|\n",
            "|      7|       1001| 2022-02-02|      Laptop|        1|      1000|       1000|\n",
            "|      8|       1002| 2022-02-03|  Headphones|        1|        50|         50|\n",
            "|      9|       1003| 2022-02-04|  Smartphone|        2|       800|       1600|\n",
            "|     10|       1001| 2022-02-05|      Laptop|        3|      1000|       3000|\n",
            "+-------+-----------+-----------+------------+---------+----------+-----------+\n",
            "\n"
          ]
        }
      ]
    },
    {
      "cell_type": "code",
      "source": [
        "renamed_df = df.toDF('OrderID_L', 'CustomerID_L', 'OrderDate_L', 'ProductName_L', 'Quantity_L', 'UnitPrice_L', 'TotalPrice_L')\n",
        "renamed_df.show()\n",
        "\n",
        "renamed_df.printSchema()"
      ],
      "metadata": {
        "colab": {
          "base_uri": "https://localhost:8080/"
        },
        "id": "2DqXFHKuOGLt",
        "outputId": "db71551b-c26b-455a-f4af-ffc004c84165"
      },
      "execution_count": 14,
      "outputs": [
        {
          "output_type": "stream",
          "name": "stdout",
          "text": [
            "+---------+------------+-----------+-------------+----------+-----------+------------+\n",
            "|OrderID_L|CustomerID_L|OrderDate_L|ProductName_L|Quantity_L|UnitPrice_L|TotalPrice_L|\n",
            "+---------+------------+-----------+-------------+----------+-----------+------------+\n",
            "|        1|        1001| 2022-01-01|       Laptop|         2|       1000|        2000|\n",
            "|        2|        1002| 2022-01-02|   Smartphone|         3|        800|        2400|\n",
            "|        3|        1003| 2022-01-03|       Laptop|         1|       1000|        1000|\n",
            "|        4|        1001| 2022-01-04|   Headphones|         2|         50|         100|\n",
            "|        5|        1002| 2022-01-05|       Laptop|         2|       1000|        2000|\n",
            "|        6|        1003| 2022-02-01|   Smartphone|         4|        800|        3200|\n",
            "|        7|        1001| 2022-02-02|       Laptop|         1|       1000|        1000|\n",
            "|        8|        1002| 2022-02-03|   Headphones|         1|         50|          50|\n",
            "|        9|        1003| 2022-02-04|   Smartphone|         2|        800|        1600|\n",
            "|       10|        1001| 2022-02-05|       Laptop|         3|       1000|        3000|\n",
            "+---------+------------+-----------+-------------+----------+-----------+------------+\n",
            "\n",
            "root\n",
            " |-- OrderID_L: string (nullable = true)\n",
            " |-- CustomerID_L: string (nullable = true)\n",
            " |-- OrderDate_L: string (nullable = true)\n",
            " |-- ProductName_L: string (nullable = true)\n",
            " |-- Quantity_L: string (nullable = true)\n",
            " |-- UnitPrice_L: string (nullable = true)\n",
            " |-- TotalPrice_L: string (nullable = true)\n",
            "\n"
          ]
        }
      ]
    }
  ]
}