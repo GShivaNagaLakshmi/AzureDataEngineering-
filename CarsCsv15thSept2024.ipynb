{
  "nbformat": 4,
  "nbformat_minor": 0,
  "metadata": {
    "colab": {
      "provenance": []
    },
    "kernelspec": {
      "name": "python3",
      "display_name": "Python 3"
    },
    "language_info": {
      "name": "python"
    }
  },
  "cells": [
    {
      "cell_type": "code",
      "execution_count": null,
      "metadata": {
        "id": "hyS-c3I5elcH"
      },
      "outputs": [],
      "source": []
    },
    {
      "cell_type": "code",
      "source": [
        "!pip install pyspark\n"
      ],
      "metadata": {
        "colab": {
          "base_uri": "https://localhost:8080/"
        },
        "id": "eFkRO89VepKY",
        "outputId": "b327caa6-8f47-494e-89f0-3958100b0363"
      },
      "execution_count": 2,
      "outputs": [
        {
          "output_type": "stream",
          "name": "stdout",
          "text": [
            "Requirement already satisfied: pyspark in /usr/local/lib/python3.10/dist-packages (3.5.3)\n",
            "Requirement already satisfied: py4j==0.10.9.7 in /usr/local/lib/python3.10/dist-packages (from pyspark) (0.10.9.7)\n"
          ]
        }
      ]
    },
    {
      "cell_type": "code",
      "source": [
        "pwd"
      ],
      "metadata": {
        "colab": {
          "base_uri": "https://localhost:8080/",
          "height": 35
        },
        "id": "_OBcp8kmfURM",
        "outputId": "9f099738-7d33-4538-d72d-9b610fe342a4"
      },
      "execution_count": 2,
      "outputs": [
        {
          "output_type": "execute_result",
          "data": {
            "text/plain": [
              "'/content'"
            ],
            "application/vnd.google.colaboratory.intrinsic+json": {
              "type": "string"
            }
          },
          "metadata": {},
          "execution_count": 2
        }
      ]
    },
    {
      "cell_type": "code",
      "source": [
        "!ls\n"
      ],
      "metadata": {
        "colab": {
          "base_uri": "https://localhost:8080/"
        },
        "id": "CQQjGHZwfX5Q",
        "outputId": "19ca006b-d5c2-42ff-ebeb-e8ecd9dd04f9"
      },
      "execution_count": 5,
      "outputs": [
        {
          "output_type": "stream",
          "name": "stdout",
          "text": [
            "sample_data\n"
          ]
        }
      ]
    },
    {
      "cell_type": "code",
      "source": [
        "ls -l"
      ],
      "metadata": {
        "colab": {
          "base_uri": "https://localhost:8080/"
        },
        "id": "IwQ1o2-RgHN-",
        "outputId": "3f9ae15c-c880-4858-dfcc-c7a213dfbbc9"
      },
      "execution_count": 6,
      "outputs": [
        {
          "output_type": "stream",
          "name": "stdout",
          "text": [
            "total 4\n",
            "drwxr-xr-x 1 root root 4096 Sep 12 13:22 \u001b[0m\u001b[01;34msample_data\u001b[0m/\n"
          ]
        }
      ]
    },
    {
      "cell_type": "code",
      "source": [
        "!man ls"
      ],
      "metadata": {
        "colab": {
          "base_uri": "https://localhost:8080/"
        },
        "id": "6XJUOGOAgIyF",
        "outputId": "8a310fd1-4c6e-4611-836a-5c32b8af6fd9"
      },
      "execution_count": 7,
      "outputs": [
        {
          "output_type": "stream",
          "name": "stdout",
          "text": [
            "This system has been minimized by removing packages and content that are\n",
            "not required on a system that users do not log into.\n",
            "\n",
            "To restore this content, including manpages, you can run the 'unminimize'\n",
            "command. You will still need to ensure the 'man-db' package is installed.\n"
          ]
        }
      ]
    },
    {
      "cell_type": "code",
      "source": [
        "!wget https://jacobceles.github.io/knowledge_repo/colab_and_pyspark/cars.csv\n"
      ],
      "metadata": {
        "colab": {
          "base_uri": "https://localhost:8080/"
        },
        "id": "RJ-t_XhPh6Tz",
        "outputId": "1dc7f051-dd73-4514-9da2-25759268f9ee"
      },
      "execution_count": 3,
      "outputs": [
        {
          "output_type": "stream",
          "name": "stdout",
          "text": [
            "--2024-09-25 14:32:01--  https://jacobceles.github.io/knowledge_repo/colab_and_pyspark/cars.csv\n",
            "Resolving jacobceles.github.io (jacobceles.github.io)... 185.199.108.153, 185.199.109.153, 185.199.110.153, ...\n",
            "Connecting to jacobceles.github.io (jacobceles.github.io)|185.199.108.153|:443... connected.\n",
            "HTTP request sent, awaiting response... 301 Moved Permanently\n",
            "Location: https://jacobcelestine.com/knowledge_repo/colab_and_pyspark/cars.csv [following]\n",
            "--2024-09-25 14:32:01--  https://jacobcelestine.com/knowledge_repo/colab_and_pyspark/cars.csv\n",
            "Resolving jacobcelestine.com (jacobcelestine.com)... 185.199.108.153, 185.199.109.153, 185.199.110.153, ...\n",
            "Connecting to jacobcelestine.com (jacobcelestine.com)|185.199.108.153|:443... connected.\n",
            "HTTP request sent, awaiting response... 200 OK\n",
            "Length: 22608 (22K) [text/csv]\n",
            "Saving to: ‘cars.csv’\n",
            "\n",
            "cars.csv            100%[===================>]  22.08K  --.-KB/s    in 0.001s  \n",
            "\n",
            "2024-09-25 14:32:01 (23.3 MB/s) - ‘cars.csv’ saved [22608/22608]\n",
            "\n"
          ]
        }
      ]
    },
    {
      "cell_type": "code",
      "source": [
        "!ls -l"
      ],
      "metadata": {
        "colab": {
          "base_uri": "https://localhost:8080/"
        },
        "id": "TNRKsfb_jRHM",
        "outputId": "f9487ea0-b0f8-45c1-aba5-e5fe58ade90d"
      },
      "execution_count": 10,
      "outputs": [
        {
          "output_type": "stream",
          "name": "stdout",
          "text": [
            "total 28\n",
            "-rw-r--r-- 1 root root 22608 Aug  1 13:43 cars.csv\n",
            "drwxr-xr-x 1 root root  4096 Sep 12 13:22 sample_data\n"
          ]
        }
      ]
    },
    {
      "cell_type": "code",
      "source": [],
      "metadata": {
        "id": "oSU-YMuYjZ49"
      },
      "execution_count": null,
      "outputs": []
    },
    {
      "cell_type": "code",
      "source": [
        "from pyspark.sql import SparkSession\n",
        "spark = SparkSession.builder.master(\"local[*]\").getOrCreate()"
      ],
      "metadata": {
        "id": "i2F9c07pkO3-"
      },
      "execution_count": 17,
      "outputs": []
    },
    {
      "cell_type": "code",
      "source": [
        "from pyspark.sql import SparkSession\n",
        "spark = SparkSession.builder.appName('cars.csv').getOrCreate()\n",
        "\n",
        "df = spark.read.csv('cars.csv', header=True, sep=\";\", inferSchema=True)\n",
        "df.show()"
      ],
      "metadata": {
        "colab": {
          "base_uri": "https://localhost:8080/"
        },
        "id": "ig_hp2GuoFUf",
        "outputId": "bb395858-f4b7-428e-bdc0-4d531d97069f"
      },
      "execution_count": 4,
      "outputs": [
        {
          "output_type": "stream",
          "name": "stdout",
          "text": [
            "+--------------------+----+---------+------------+----------+------+------------+-----+------+\n",
            "|                 Car| MPG|Cylinders|Displacement|Horsepower|Weight|Acceleration|Model|Origin|\n",
            "+--------------------+----+---------+------------+----------+------+------------+-----+------+\n",
            "|Chevrolet Chevell...|18.0|        8|       307.0|     130.0|  3504|        12.0|   70|    US|\n",
            "|   Buick Skylark 320|15.0|        8|       350.0|     165.0|  3693|        11.5|   70|    US|\n",
            "|  Plymouth Satellite|18.0|        8|       318.0|     150.0|  3436|        11.0|   70|    US|\n",
            "|       AMC Rebel SST|16.0|        8|       304.0|     150.0|  3433|        12.0|   70|    US|\n",
            "|         Ford Torino|17.0|        8|       302.0|     140.0|  3449|        10.5|   70|    US|\n",
            "|    Ford Galaxie 500|15.0|        8|       429.0|     198.0|  4341|        10.0|   70|    US|\n",
            "|    Chevrolet Impala|14.0|        8|       454.0|     220.0|  4354|         9.0|   70|    US|\n",
            "|   Plymouth Fury iii|14.0|        8|       440.0|     215.0|  4312|         8.5|   70|    US|\n",
            "|    Pontiac Catalina|14.0|        8|       455.0|     225.0|  4425|        10.0|   70|    US|\n",
            "|  AMC Ambassador DPL|15.0|        8|       390.0|     190.0|  3850|         8.5|   70|    US|\n",
            "|Citroen DS-21 Pallas| 0.0|        4|       133.0|     115.0|  3090|        17.5|   70|Europe|\n",
            "|Chevrolet Chevell...| 0.0|        8|       350.0|     165.0|  4142|        11.5|   70|    US|\n",
            "|    Ford Torino (sw)| 0.0|        8|       351.0|     153.0|  4034|        11.0|   70|    US|\n",
            "|Plymouth Satellit...| 0.0|        8|       383.0|     175.0|  4166|        10.5|   70|    US|\n",
            "|  AMC Rebel SST (sw)| 0.0|        8|       360.0|     175.0|  3850|        11.0|   70|    US|\n",
            "| Dodge Challenger SE|15.0|        8|       383.0|     170.0|  3563|        10.0|   70|    US|\n",
            "|  Plymouth 'Cuda 340|14.0|        8|       340.0|     160.0|  3609|         8.0|   70|    US|\n",
            "|Ford Mustang Boss...| 0.0|        8|       302.0|     140.0|  3353|         8.0|   70|    US|\n",
            "|Chevrolet Monte C...|15.0|        8|       400.0|     150.0|  3761|         9.5|   70|    US|\n",
            "|Buick Estate Wago...|14.0|        8|       455.0|     225.0|  3086|        10.0|   70|    US|\n",
            "+--------------------+----+---------+------------+----------+------+------------+-----+------+\n",
            "only showing top 20 rows\n",
            "\n"
          ]
        }
      ]
    },
    {
      "cell_type": "code",
      "source": [
        "from pyspark.sql.functions import when\n",
        "\n",
        "df = df.withColumn(\"Warranty\", when(df.Origin == \"US\", \"10 Years\").otherwise(\"5 Years\"))\n",
        "df.show()"
      ],
      "metadata": {
        "colab": {
          "base_uri": "https://localhost:8080/"
        },
        "id": "O6LGgkdRzIM1",
        "outputId": "b302916c-e091-4033-b543-4ec70ca18f76"
      },
      "execution_count": 5,
      "outputs": [
        {
          "output_type": "stream",
          "name": "stdout",
          "text": [
            "+--------------------+----+---------+------------+----------+------+------------+-----+------+--------+\n",
            "|                 Car| MPG|Cylinders|Displacement|Horsepower|Weight|Acceleration|Model|Origin|Warranty|\n",
            "+--------------------+----+---------+------------+----------+------+------------+-----+------+--------+\n",
            "|Chevrolet Chevell...|18.0|        8|       307.0|     130.0|  3504|        12.0|   70|    US|10 Years|\n",
            "|   Buick Skylark 320|15.0|        8|       350.0|     165.0|  3693|        11.5|   70|    US|10 Years|\n",
            "|  Plymouth Satellite|18.0|        8|       318.0|     150.0|  3436|        11.0|   70|    US|10 Years|\n",
            "|       AMC Rebel SST|16.0|        8|       304.0|     150.0|  3433|        12.0|   70|    US|10 Years|\n",
            "|         Ford Torino|17.0|        8|       302.0|     140.0|  3449|        10.5|   70|    US|10 Years|\n",
            "|    Ford Galaxie 500|15.0|        8|       429.0|     198.0|  4341|        10.0|   70|    US|10 Years|\n",
            "|    Chevrolet Impala|14.0|        8|       454.0|     220.0|  4354|         9.0|   70|    US|10 Years|\n",
            "|   Plymouth Fury iii|14.0|        8|       440.0|     215.0|  4312|         8.5|   70|    US|10 Years|\n",
            "|    Pontiac Catalina|14.0|        8|       455.0|     225.0|  4425|        10.0|   70|    US|10 Years|\n",
            "|  AMC Ambassador DPL|15.0|        8|       390.0|     190.0|  3850|         8.5|   70|    US|10 Years|\n",
            "|Citroen DS-21 Pallas| 0.0|        4|       133.0|     115.0|  3090|        17.5|   70|Europe| 5 Years|\n",
            "|Chevrolet Chevell...| 0.0|        8|       350.0|     165.0|  4142|        11.5|   70|    US|10 Years|\n",
            "|    Ford Torino (sw)| 0.0|        8|       351.0|     153.0|  4034|        11.0|   70|    US|10 Years|\n",
            "|Plymouth Satellit...| 0.0|        8|       383.0|     175.0|  4166|        10.5|   70|    US|10 Years|\n",
            "|  AMC Rebel SST (sw)| 0.0|        8|       360.0|     175.0|  3850|        11.0|   70|    US|10 Years|\n",
            "| Dodge Challenger SE|15.0|        8|       383.0|     170.0|  3563|        10.0|   70|    US|10 Years|\n",
            "|  Plymouth 'Cuda 340|14.0|        8|       340.0|     160.0|  3609|         8.0|   70|    US|10 Years|\n",
            "|Ford Mustang Boss...| 0.0|        8|       302.0|     140.0|  3353|         8.0|   70|    US|10 Years|\n",
            "|Chevrolet Monte C...|15.0|        8|       400.0|     150.0|  3761|         9.5|   70|    US|10 Years|\n",
            "|Buick Estate Wago...|14.0|        8|       455.0|     225.0|  3086|        10.0|   70|    US|10 Years|\n",
            "+--------------------+----+---------+------------+----------+------+------------+-----+------+--------+\n",
            "only showing top 20 rows\n",
            "\n"
          ]
        }
      ]
    },
    {
      "cell_type": "code",
      "source": [
        "df.printSchema()"
      ],
      "metadata": {
        "colab": {
          "base_uri": "https://localhost:8080/"
        },
        "id": "3_3cQa8r0MTS",
        "outputId": "96dc5413-adda-405a-bb48-53f56046017d"
      },
      "execution_count": 9,
      "outputs": [
        {
          "output_type": "stream",
          "name": "stdout",
          "text": [
            "root\n",
            " |-- Car: string (nullable = true)\n",
            " |-- MPG: double (nullable = true)\n",
            " |-- Cylinders: integer (nullable = true)\n",
            " |-- Displacement: double (nullable = true)\n",
            " |-- Horsepower: double (nullable = true)\n",
            " |-- Weight: decimal(4,0) (nullable = true)\n",
            " |-- Acceleration: double (nullable = true)\n",
            " |-- Model: integer (nullable = true)\n",
            " |-- Origin: string (nullable = true)\n",
            " |-- Warranty: string (nullable = false)\n",
            "\n"
          ]
        }
      ]
    },
    {
      "cell_type": "code",
      "source": [
        "renamed_df = df.withColumnRenamed(\"Car\", \"Car_Model\") \\\n",
        "               .withColumnRenamed(\"MPG\", \"Miles_per_Gallon\") \\\n",
        "               .withColumnRenamed(\"Cylinders\", \"No_of_Cylinders\") \\\n",
        "               .withColumnRenamed(\"Displacement\", \"Displacement_No\")\\\n",
        "               .withColumnRenamed(\"Horsepower\", \"Horsepower_No\") \\\n",
        "               .withColumnRenamed(\"Weight\", \"Weight_No\") \\\n",
        "               .withColumnRenamed(\"Acceleration\", \"Acceleration_No\") \\\n",
        "               .withColumnRenamed(\"Model\", \"Year_of_Manufacture\") \\\n",
        "               .withColumnRenamed(\"Origin\", \"Country_of_Origin\") \\\n",
        "               .withColumnRenamed(\"Warranty\", \"Warranty_Years\")\n",
        "renamed_df.show()"
      ],
      "metadata": {
        "colab": {
          "base_uri": "https://localhost:8080/"
        },
        "id": "MWPlwSPxnpHF",
        "outputId": "b647a812-5263-4c41-dddf-6cd752eb75d2"
      },
      "execution_count": 10,
      "outputs": [
        {
          "output_type": "stream",
          "name": "stdout",
          "text": [
            "+--------------------+----------------+---------------+---------------+-------------+---------+---------------+-------------------+-----------------+--------------+\n",
            "|           Car_Model|Miles_per_Gallon|No_of_Cylinders|Displacement_No|Horsepower_No|Weight_No|Acceleration_No|Year_of_Manufacture|Country_of_Origin|Warranty_Years|\n",
            "+--------------------+----------------+---------------+---------------+-------------+---------+---------------+-------------------+-----------------+--------------+\n",
            "|Chevrolet Chevell...|            18.0|              8|          307.0|        130.0|     3504|           12.0|                 70|               US|      10 Years|\n",
            "|   Buick Skylark 320|            15.0|              8|          350.0|        165.0|     3693|           11.5|                 70|               US|      10 Years|\n",
            "|  Plymouth Satellite|            18.0|              8|          318.0|        150.0|     3436|           11.0|                 70|               US|      10 Years|\n",
            "|       AMC Rebel SST|            16.0|              8|          304.0|        150.0|     3433|           12.0|                 70|               US|      10 Years|\n",
            "|         Ford Torino|            17.0|              8|          302.0|        140.0|     3449|           10.5|                 70|               US|      10 Years|\n",
            "|    Ford Galaxie 500|            15.0|              8|          429.0|        198.0|     4341|           10.0|                 70|               US|      10 Years|\n",
            "|    Chevrolet Impala|            14.0|              8|          454.0|        220.0|     4354|            9.0|                 70|               US|      10 Years|\n",
            "|   Plymouth Fury iii|            14.0|              8|          440.0|        215.0|     4312|            8.5|                 70|               US|      10 Years|\n",
            "|    Pontiac Catalina|            14.0|              8|          455.0|        225.0|     4425|           10.0|                 70|               US|      10 Years|\n",
            "|  AMC Ambassador DPL|            15.0|              8|          390.0|        190.0|     3850|            8.5|                 70|               US|      10 Years|\n",
            "|Citroen DS-21 Pallas|             0.0|              4|          133.0|        115.0|     3090|           17.5|                 70|           Europe|       5 Years|\n",
            "|Chevrolet Chevell...|             0.0|              8|          350.0|        165.0|     4142|           11.5|                 70|               US|      10 Years|\n",
            "|    Ford Torino (sw)|             0.0|              8|          351.0|        153.0|     4034|           11.0|                 70|               US|      10 Years|\n",
            "|Plymouth Satellit...|             0.0|              8|          383.0|        175.0|     4166|           10.5|                 70|               US|      10 Years|\n",
            "|  AMC Rebel SST (sw)|             0.0|              8|          360.0|        175.0|     3850|           11.0|                 70|               US|      10 Years|\n",
            "| Dodge Challenger SE|            15.0|              8|          383.0|        170.0|     3563|           10.0|                 70|               US|      10 Years|\n",
            "|  Plymouth 'Cuda 340|            14.0|              8|          340.0|        160.0|     3609|            8.0|                 70|               US|      10 Years|\n",
            "|Ford Mustang Boss...|             0.0|              8|          302.0|        140.0|     3353|            8.0|                 70|               US|      10 Years|\n",
            "|Chevrolet Monte C...|            15.0|              8|          400.0|        150.0|     3761|            9.5|                 70|               US|      10 Years|\n",
            "|Buick Estate Wago...|            14.0|              8|          455.0|        225.0|     3086|           10.0|                 70|               US|      10 Years|\n",
            "+--------------------+----------------+---------------+---------------+-------------+---------+---------------+-------------------+-----------------+--------------+\n",
            "only showing top 20 rows\n",
            "\n"
          ]
        }
      ]
    },
    {
      "cell_type": "code",
      "source": [
        "renamed_df = df.toDF(\"Car_New\",\"MPG_New\",\"Cylinders_New\",\"Displacement_New\",\"Horsepower_New\",\"Weight_New\",\"Acceleration_New\",\"Model_New\",\"Origin_New\", \"Warranty_New\")\n",
        "renamed_df.show()"
      ],
      "metadata": {
        "colab": {
          "base_uri": "https://localhost:8080/"
        },
        "id": "VVgqUPtvqZ1P",
        "outputId": "916e0fec-ec31-4770-d167-269b07027724"
      },
      "execution_count": 11,
      "outputs": [
        {
          "output_type": "stream",
          "name": "stdout",
          "text": [
            "+--------------------+-------+-------------+----------------+--------------+----------+----------------+---------+----------+------------+\n",
            "|             Car_New|MPG_New|Cylinders_New|Displacement_New|Horsepower_New|Weight_New|Acceleration_New|Model_New|Origin_New|Warranty_New|\n",
            "+--------------------+-------+-------------+----------------+--------------+----------+----------------+---------+----------+------------+\n",
            "|Chevrolet Chevell...|   18.0|            8|           307.0|         130.0|      3504|            12.0|       70|        US|    10 Years|\n",
            "|   Buick Skylark 320|   15.0|            8|           350.0|         165.0|      3693|            11.5|       70|        US|    10 Years|\n",
            "|  Plymouth Satellite|   18.0|            8|           318.0|         150.0|      3436|            11.0|       70|        US|    10 Years|\n",
            "|       AMC Rebel SST|   16.0|            8|           304.0|         150.0|      3433|            12.0|       70|        US|    10 Years|\n",
            "|         Ford Torino|   17.0|            8|           302.0|         140.0|      3449|            10.5|       70|        US|    10 Years|\n",
            "|    Ford Galaxie 500|   15.0|            8|           429.0|         198.0|      4341|            10.0|       70|        US|    10 Years|\n",
            "|    Chevrolet Impala|   14.0|            8|           454.0|         220.0|      4354|             9.0|       70|        US|    10 Years|\n",
            "|   Plymouth Fury iii|   14.0|            8|           440.0|         215.0|      4312|             8.5|       70|        US|    10 Years|\n",
            "|    Pontiac Catalina|   14.0|            8|           455.0|         225.0|      4425|            10.0|       70|        US|    10 Years|\n",
            "|  AMC Ambassador DPL|   15.0|            8|           390.0|         190.0|      3850|             8.5|       70|        US|    10 Years|\n",
            "|Citroen DS-21 Pallas|    0.0|            4|           133.0|         115.0|      3090|            17.5|       70|    Europe|     5 Years|\n",
            "|Chevrolet Chevell...|    0.0|            8|           350.0|         165.0|      4142|            11.5|       70|        US|    10 Years|\n",
            "|    Ford Torino (sw)|    0.0|            8|           351.0|         153.0|      4034|            11.0|       70|        US|    10 Years|\n",
            "|Plymouth Satellit...|    0.0|            8|           383.0|         175.0|      4166|            10.5|       70|        US|    10 Years|\n",
            "|  AMC Rebel SST (sw)|    0.0|            8|           360.0|         175.0|      3850|            11.0|       70|        US|    10 Years|\n",
            "| Dodge Challenger SE|   15.0|            8|           383.0|         170.0|      3563|            10.0|       70|        US|    10 Years|\n",
            "|  Plymouth 'Cuda 340|   14.0|            8|           340.0|         160.0|      3609|             8.0|       70|        US|    10 Years|\n",
            "|Ford Mustang Boss...|    0.0|            8|           302.0|         140.0|      3353|             8.0|       70|        US|    10 Years|\n",
            "|Chevrolet Monte C...|   15.0|            8|           400.0|         150.0|      3761|             9.5|       70|        US|    10 Years|\n",
            "|Buick Estate Wago...|   14.0|            8|           455.0|         225.0|      3086|            10.0|       70|        US|    10 Years|\n",
            "+--------------------+-------+-------------+----------------+--------------+----------+----------------+---------+----------+------------+\n",
            "only showing top 20 rows\n",
            "\n"
          ]
        }
      ]
    }
  ]
}